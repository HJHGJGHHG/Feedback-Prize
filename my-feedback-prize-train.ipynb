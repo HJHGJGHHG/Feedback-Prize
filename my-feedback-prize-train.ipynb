{
 "cells": [
  {
   "cell_type": "code",
   "execution_count": 1,
   "metadata": {
    "tags": []
   },
   "outputs": [],
   "source": [
    "import random\n",
    "import os\n",
    "import time\n",
    "import pandas as pd\n",
    "import numpy as np\n",
    "import torch\n",
    "import torch.nn as nn\n",
    "import torch.nn.functional as F\n",
    "from torch.utils.data import Dataset, DataLoader\n",
    "from torch.cuda.amp import autocast, GradScaler\n",
    "from tqdm import tqdm\n",
    "from transformers import AutoTokenizer, AutoModelForTokenClassification, AdamW, get_scheduler"
   ]
  },
  {
   "cell_type": "markdown",
   "metadata": {},
   "source": [
    "## Config"
   ]
  },
  {
   "cell_type": "code",
   "execution_count": 2,
   "metadata": {
    "collapsed": false,
    "jupyter": {
     "outputs_hidden": false
    },
    "pycharm": {
     "name": "#%%\n"
    }
   },
   "outputs": [],
   "source": [
    "config = {\n",
    "    'fold_num': 5,\n",
    "    'seed': 1234,\n",
    "    #'model': 'roberta-base',\n",
    "    'model': 'allenai/longformer-base-4096',\n",
    "    #'model': 'allenai/longformer-large-4096',\n",
    "    #'model': 'google/bigbird-roberta-base',\n",
    "    'max_len': 1024,\n",
    "    'epochs': 5,\n",
    "    'train_bs': 3,\n",
    "    'valid_bs': 6,\n",
    "    'lr': 8e-5,\n",
    "    'num_workers': 0,\n",
    "    'weight_decay': 1e-2,\n",
    "    'num_warmup_steps': 100,\n",
    "    'lr_scheduler_type': 'linear',\n",
    "    'gradient_accumulation_steps': 8,\n",
    "}\n"
   ]
  },
  {
   "cell_type": "code",
   "execution_count": 3,
   "metadata": {},
   "outputs": [],
   "source": [
    "labels = ['O', 'B-Lead', 'I-Lead', 'B-Position', 'I-Position', 'B-Claim', 'I-Claim', 'B-Counterclaim', 'I-Counterclaim',\n",
    "          'B-Rebuttal', 'I-Rebuttal', 'B-Evidence', 'I-Evidence', 'B-Concluding Statement', 'I-Concluding Statement']\n",
    "labels2index = {\n",
    "    'Lead': 1, 'Position': 3, 'Claim': 5, 'Counterclaim': 7, 'Rebuttal': 9, 'Evidence': 11, 'Concluding Statement': 13\n",
    "}"
   ]
  },
  {
   "cell_type": "markdown",
   "metadata": {},
   "source": [
    "## Set Seed"
   ]
  },
  {
   "cell_type": "code",
   "execution_count": 4,
   "metadata": {
    "collapsed": false,
    "jupyter": {
     "outputs_hidden": false
    },
    "pycharm": {
     "name": "#%%\n"
    }
   },
   "outputs": [],
   "source": [
    "def set_seed(seed):\n",
    "    random.seed(seed)\n",
    "    os.environ['PYTHONHASHSEED'] = str(seed)\n",
    "    np.random.seed(seed)\n",
    "    torch.manual_seed(seed)\n",
    "    torch.cuda.manual_seed(seed)\n",
    "    torch.cuda.manual_seed_all(seed)\n",
    "    torch.backends.cudnn.deterministic = True\n",
    "    torch.backends.cudnn.benchmark = False\n",
    "\n",
    "\n",
    "set_seed(config['seed'])\n",
    "\n",
    "device = torch.device('cuda' if torch.cuda.is_available() else 'cpu')"
   ]
  },
  {
   "cell_type": "markdown",
   "metadata": {},
   "source": [
    "## Load Train Data"
   ]
  },
  {
   "cell_type": "code",
   "execution_count": 5,
   "metadata": {
    "collapsed": false,
    "jupyter": {
     "outputs_hidden": false
    },
    "pycharm": {
     "name": "#%%\n"
    }
   },
   "outputs": [
    {
     "data": {
      "text/html": [
       "<div>\n",
       "<style scoped>\n",
       "    .dataframe tbody tr th:only-of-type {\n",
       "        vertical-align: middle;\n",
       "    }\n",
       "\n",
       "    .dataframe tbody tr th {\n",
       "        vertical-align: top;\n",
       "    }\n",
       "\n",
       "    .dataframe thead th {\n",
       "        text-align: right;\n",
       "    }\n",
       "</style>\n",
       "<table border=\"1\" class=\"dataframe\">\n",
       "  <thead>\n",
       "    <tr style=\"text-align: right;\">\n",
       "      <th></th>\n",
       "      <th>id</th>\n",
       "      <th>discourse_id</th>\n",
       "      <th>discourse_start</th>\n",
       "      <th>discourse_end</th>\n",
       "      <th>discourse_text</th>\n",
       "      <th>discourse_type</th>\n",
       "      <th>discourse_type_num</th>\n",
       "      <th>predictionstring</th>\n",
       "    </tr>\n",
       "  </thead>\n",
       "  <tbody>\n",
       "    <tr>\n",
       "      <th>0</th>\n",
       "      <td>423A1CA112E2</td>\n",
       "      <td>1.622628e+12</td>\n",
       "      <td>8.0</td>\n",
       "      <td>229.0</td>\n",
       "      <td>Modern humans today are always on their phone....</td>\n",
       "      <td>Lead</td>\n",
       "      <td>Lead 1</td>\n",
       "      <td>1 2 3 4 5 6 7 8 9 10 11 12 13 14 15 16 17 18 1...</td>\n",
       "    </tr>\n",
       "    <tr>\n",
       "      <th>1</th>\n",
       "      <td>423A1CA112E2</td>\n",
       "      <td>1.622628e+12</td>\n",
       "      <td>230.0</td>\n",
       "      <td>312.0</td>\n",
       "      <td>They are some really bad consequences when stu...</td>\n",
       "      <td>Position</td>\n",
       "      <td>Position 1</td>\n",
       "      <td>45 46 47 48 49 50 51 52 53 54 55 56 57 58 59</td>\n",
       "    </tr>\n",
       "  </tbody>\n",
       "</table>\n",
       "</div>"
      ],
      "text/plain": [
       "             id  discourse_id  discourse_start  discourse_end  \\\n",
       "0  423A1CA112E2  1.622628e+12              8.0          229.0   \n",
       "1  423A1CA112E2  1.622628e+12            230.0          312.0   \n",
       "\n",
       "                                      discourse_text discourse_type  \\\n",
       "0  Modern humans today are always on their phone....           Lead   \n",
       "1  They are some really bad consequences when stu...       Position   \n",
       "\n",
       "  discourse_type_num                                   predictionstring  \n",
       "0             Lead 1  1 2 3 4 5 6 7 8 9 10 11 12 13 14 15 16 17 18 1...  \n",
       "1         Position 1       45 46 47 48 49 50 51 52 53 54 55 56 57 58 59  "
      ]
     },
     "execution_count": 5,
     "metadata": {},
     "output_type": "execute_result"
    }
   ],
   "source": [
    "train_df = pd.read_csv('./data/train.csv')\n",
    "train_df.head(2)"
   ]
  },
  {
   "cell_type": "code",
   "execution_count": 6,
   "metadata": {
    "collapsed": false,
    "jupyter": {
     "outputs_hidden": false
    },
    "pycharm": {
     "name": "#%%\n"
    }
   },
   "outputs": [
    {
     "name": "stderr",
     "output_type": "stream",
     "text": [
      "100%|██████████| 15594/15594 [00:00<00:00, 18557.41it/s]\n"
     ]
    }
   ],
   "source": [
    "train_names, train_texts = [], []\n",
    "for f in tqdm(list(os.listdir('./data/train'))):\n",
    "    train_names.append(f.replace('.txt', ''))\n",
    "    with open('./data/train/' + f, 'r', encoding='utf-8') as f:\n",
    "        text = ''\n",
    "        for line in f.readlines():\n",
    "            #text += line.replace('\\n', '').replace('\\xa0', '')\n",
    "            text += line.replace('\\n', ' ')\n",
    "        train_texts.append(text)\n",
    "train_texts = pd.DataFrame({'id': train_names, 'text': train_texts})\n",
    "train_texts['text'] = train_texts['text'].apply(lambda x: x.split())"
   ]
  },
  {
   "cell_type": "code",
   "execution_count": 7,
   "metadata": {
    "collapsed": false,
    "jupyter": {
     "outputs_hidden": false
    },
    "pycharm": {
     "name": "#%%\n"
    }
   },
   "outputs": [],
   "source": [
    "train_texts = train_texts.sort_values(by='id').reset_index(drop=True)\n",
    "train_df = train_df.sort_values(by=['id', 'discourse_start']).reset_index(drop=True)"
   ]
  },
  {
   "cell_type": "code",
   "execution_count": 8,
   "metadata": {
    "collapsed": false,
    "jupyter": {
     "outputs_hidden": false
    },
    "pycharm": {
     "name": "#%%\n"
    }
   },
   "outputs": [
    {
     "name": "stdout",
     "output_type": "stream",
     "text": [
      "Processed 20000 discourses.\n",
      "Processed 40000 discourses.\n",
      "Processed 60000 discourses.\n",
      "Processed 80000 discourses.\n",
      "Processed 100000 discourses.\n",
      "Processed 120000 discourses.\n",
      "Processed 140000 discourses.\n"
     ]
    }
   ],
   "source": [
    "text_index = dict.fromkeys(train_texts['id'].values.tolist())\n",
    "for i in range(len(train_df)):\n",
    "    id = train_df.iloc[i]['id']\n",
    "    if not text_index[id]:\n",
    "        text_index[id] = [i]\n",
    "    else:\n",
    "        text_index[id].append(i)\n",
    "    if (i+1) % 20000 == 0:\n",
    "        print(\"Processed {0} discourses.\".format(i+1))"
   ]
  },
  {
   "cell_type": "code",
   "execution_count": 9,
   "metadata": {
    "collapsed": false,
    "jupyter": {
     "outputs_hidden": false
    },
    "pycharm": {
     "is_executing": true,
     "name": "#%%\n"
    }
   },
   "outputs": [
    {
     "name": "stdout",
     "output_type": "stream",
     "text": [
      "Processed 2000 essays.\n",
      "Processed 4000 essays.\n",
      "Processed 6000 essays.\n",
      "Processed 8000 essays.\n",
      "Processed 10000 essays.\n",
      "Processed 12000 essays.\n",
      "Processed 14000 essays.\n"
     ]
    }
   ],
   "source": [
    "taggings = []\n",
    "essays = 0\n",
    "for i in range(len(train_texts)):\n",
    "    text_id = train_texts.iloc[i]['id']\n",
    "    text = train_texts.iloc[i]['text']\n",
    "    tagging = [0] * config['max_len']\n",
    "    for k in text_index[text_id]:\n",
    "        if train_df.iloc[k]['id'] != train_texts.iloc[i]['id']:\n",
    "            break\n",
    "\n",
    "        discourse_type = train_df.iloc[k]['discourse_type']\n",
    "        predictionstring = train_df.iloc[k]['predictionstring'].split(' ')\n",
    "        label = labels2index[discourse_type]\n",
    "        if int(predictionstring[0]) > config['max_len'] - 2:\n",
    "            break\n",
    "        else:\n",
    "            tagging[int(predictionstring[0]) + 1] = label\n",
    "        for m in range(int(predictionstring[0]) + 2, int(predictionstring[-1]) + 2):\n",
    "            if m > config['max_len'] - 2:\n",
    "                break\n",
    "            else:\n",
    "                tagging[m] = label + 1\n",
    "    tagging[-1] = 0\n",
    "    taggings.append(tagging)\n",
    "    essays += 1\n",
    "    if essays % 2000 == 0:\n",
    "        print(\"Processed {0} essays.\".format(essays))"
   ]
  },
  {
   "cell_type": "code",
   "execution_count": 10,
   "metadata": {},
   "outputs": [],
   "source": [
    "train_texts['tagging'] = taggings"
   ]
  },
  {
   "cell_type": "code",
   "execution_count": 11,
   "metadata": {},
   "outputs": [
    {
     "data": {
      "application/vnd.jupyter.widget-view+json": {
       "model_id": "9bcba319d3b045429a217a15ae01a4cc",
       "version_major": 2,
       "version_minor": 0
      },
      "text/plain": [
       "Downloading:   0%|          | 0.00/694 [00:00<?, ?B/s]"
      ]
     },
     "metadata": {},
     "output_type": "display_data"
    },
    {
     "data": {
      "application/vnd.jupyter.widget-view+json": {
       "model_id": "5d23392dbcf54d35b57ee712c87bbdb2",
       "version_major": 2,
       "version_minor": 0
      },
      "text/plain": [
       "Downloading:   0%|          | 0.00/878k [00:00<?, ?B/s]"
      ]
     },
     "metadata": {},
     "output_type": "display_data"
    },
    {
     "data": {
      "application/vnd.jupyter.widget-view+json": {
       "model_id": "359fa72803dc43fead9dc41f552bdf74",
       "version_major": 2,
       "version_minor": 0
      },
      "text/plain": [
       "Downloading:   0%|          | 0.00/446k [00:00<?, ?B/s]"
      ]
     },
     "metadata": {},
     "output_type": "display_data"
    },
    {
     "data": {
      "application/vnd.jupyter.widget-view+json": {
       "model_id": "f96efb87ab314d49a2ab5559984d2236",
       "version_major": 2,
       "version_minor": 0
      },
      "text/plain": [
       "Downloading:   0%|          | 0.00/1.29M [00:00<?, ?B/s]"
      ]
     },
     "metadata": {},
     "output_type": "display_data"
    }
   ],
   "source": [
    "tokenizer = AutoTokenizer.from_pretrained(config['model'], add_prefix_space=True)"
   ]
  },
  {
   "cell_type": "code",
   "execution_count": 12,
   "metadata": {},
   "outputs": [],
   "source": [
    "class MyDataset(Dataset):\n",
    "    def __init__(self, df, phase='Train'):\n",
    "        self.df = df\n",
    "        self.phase = phase\n",
    "\n",
    "    def __len__(self):\n",
    "        return len(self.df)\n",
    "\n",
    "    def __getitem__(self, idx):\n",
    "        text = self.df.text.values[idx]\n",
    "        if self.phase == 'Train':\n",
    "            label = self.df.tagging.values[idx]\n",
    "            return {'text': text, 'label': label}\n",
    "        else:\n",
    "            return {'text': text}\n",
    "\n",
    "\n",
    "def collate_fn(data):\n",
    "    input_ids, attention_mask = [], []\n",
    "    text = [item['text'] for item in data]\n",
    "    tokenized_inputs = tokenizer(\n",
    "        text,\n",
    "        max_length=config['max_len'],\n",
    "        padding='max_length',\n",
    "        truncation=True,\n",
    "        is_split_into_words=True,\n",
    "        return_tensors='pt'\n",
    "    )\n",
    "\n",
    "    words = []\n",
    "    for i in range(len(data)):\n",
    "        word_ids = tokenized_inputs.word_ids(batch_index=i)\n",
    "        words.append(word_ids)\n",
    "\n",
    "    tokenized_inputs[\"word_ids\"] = words\n",
    "    if 'label' in data[0].keys():\n",
    "        label = [item['label'] for item in data]\n",
    "        tokenized_inputs['labels'] = torch.LongTensor(label)\n",
    "\n",
    "    return tokenized_inputs"
   ]
  },
  {
   "cell_type": "code",
   "execution_count": 13,
   "metadata": {},
   "outputs": [],
   "source": [
    "train_dataset = MyDataset(train_texts, phase='Train')\n",
    "train_iter = DataLoader(train_dataset, batch_size=config['train_bs'], collate_fn=collate_fn, shuffle=False,\n",
    "                        num_workers=config['num_workers'])"
   ]
  },
  {
   "cell_type": "markdown",
   "metadata": {},
   "source": [
    "## Load Model and Prepare Optimizer and LR Scheduler"
   ]
  },
  {
   "cell_type": "code",
   "execution_count": 14,
   "metadata": {},
   "outputs": [
    {
     "data": {
      "application/vnd.jupyter.widget-view+json": {
       "model_id": "50a39c37e9594383984e0b7af5d66991",
       "version_major": 2,
       "version_minor": 0
      },
      "text/plain": [
       "Downloading:   0%|          | 0.00/570M [00:00<?, ?B/s]"
      ]
     },
     "metadata": {},
     "output_type": "display_data"
    },
    {
     "name": "stderr",
     "output_type": "stream",
     "text": [
      "Some weights of the model checkpoint at allenai/longformer-base-4096 were not used when initializing LongformerForTokenClassification: ['lm_head.bias', 'lm_head.layer_norm.weight', 'lm_head.layer_norm.bias', 'lm_head.dense.bias', 'lm_head.decoder.weight', 'lm_head.dense.weight']\n",
      "- This IS expected if you are initializing LongformerForTokenClassification from the checkpoint of a model trained on another task or with another architecture (e.g. initializing a BertForSequenceClassification model from a BertForPreTraining model).\n",
      "- This IS NOT expected if you are initializing LongformerForTokenClassification from the checkpoint of a model that you expect to be exactly identical (initializing a BertForSequenceClassification model from a BertForSequenceClassification model).\n",
      "Some weights of LongformerForTokenClassification were not initialized from the model checkpoint at allenai/longformer-base-4096 and are newly initialized: ['classifier.weight', 'classifier.bias']\n",
      "You should probably TRAIN this model on a down-stream task to be able to use it for predictions and inference.\n"
     ]
    }
   ],
   "source": [
    "model = AutoModelForTokenClassification.from_pretrained(config['model'], num_labels=15).to(device)\n",
    "\n",
    "no_decay = [\"bias\", \"LayerNorm.weight\"]\n",
    "optimizer_grouped_parameters = [\n",
    "    {\"params\": [p for n, p in model.named_parameters()\n",
    "                if not any(nd in n for nd in no_decay)],\n",
    "     \"weight_decay\": config['weight_decay'],\n",
    "     },\n",
    "    {\"params\": [p for n, p in model.named_parameters()\n",
    "                if any(nd in n for nd in no_decay)],\n",
    "     \"weight_decay\": 0.0,\n",
    "     },\n",
    "]\n",
    "optimizer = AdamW(optimizer_grouped_parameters,\n",
    "                  lr=config['lr'],\n",
    "                  betas=(0.9, 0.999),\n",
    "                  eps=1e-6\n",
    "                  )\n",
    "lr_scheduler = get_scheduler(\n",
    "    name=config['lr_scheduler_type'],\n",
    "    optimizer=optimizer,\n",
    "    num_warmup_steps=config['num_warmup_steps'],\n",
    "    num_training_steps=config['epochs'] * len(train_iter) /  config['gradient_accumulation_steps'], )"
   ]
  },
  {
   "cell_type": "markdown",
   "metadata": {},
   "source": [
    "## Start Training!"
   ]
  },
  {
   "cell_type": "code",
   "execution_count": null,
   "metadata": {},
   "outputs": [
    {
     "name": "stdout",
     "output_type": "stream",
     "text": [
      "Epoch 1/5\n",
      "Epoch 1/5 Step 100/5198  Average Training Loss:2.955353\n",
      "Epoch 1/5 Step 200/5198  Average Training Loss:2.608121\n",
      "Epoch 1/5 Step 300/5198  Average Training Loss:2.322504\n",
      "Epoch 1/5 Step 400/5198  Average Training Loss:2.163729\n",
      "Epoch 1/5 Step 500/5198  Average Training Loss:2.028495\n",
      "Epoch 1/5 Step 600/5198  Average Training Loss:1.898943\n",
      "Epoch 1/5 Step 700/5198  Average Training Loss:1.782778\n",
      "Epoch 1/5 Step 800/5198  Average Training Loss:1.700088\n",
      "Epoch 1/5 Step 900/5198  Average Training Loss:1.628187\n",
      "Epoch 1/5 Step 1000/5198  Average Training Loss:1.566201\n",
      "Epoch 1/5 Step 1100/5198  Average Training Loss:1.513214\n",
      "Epoch 1/5 Step 1200/5198  Average Training Loss:1.469263\n",
      "Epoch 1/5 Step 1300/5198  Average Training Loss:1.430204\n",
      "Epoch 1/5 Step 1400/5198  Average Training Loss:1.397842\n",
      "Epoch 1/5 Step 1500/5198  Average Training Loss:1.367921\n",
      "Epoch 1/5 Step 1600/5198  Average Training Loss:1.344093\n",
      "Epoch 1/5 Step 1700/5198  Average Training Loss:1.320535\n",
      "Epoch 1/5 Step 1800/5198  Average Training Loss:1.300235\n",
      "Epoch 1/5 Step 1900/5198  Average Training Loss:1.278956\n",
      "Epoch 1/5 Step 2000/5198  Average Training Loss:1.258458\n",
      "Epoch 1/5 Step 2100/5198  Average Training Loss:1.241501\n",
      "Epoch 1/5 Step 2200/5198  Average Training Loss:1.225767\n",
      "Epoch 1/5 Step 2300/5198  Average Training Loss:1.211190\n",
      "Epoch 1/5 Step 2400/5198  Average Training Loss:1.198395\n",
      "Epoch 1/5 Step 2500/5198  Average Training Loss:1.184998\n",
      "Epoch 1/5 Step 2600/5198  Average Training Loss:1.173965\n",
      "Epoch 1/5 Step 2700/5198  Average Training Loss:1.162267\n",
      "Epoch 1/5 Step 2800/5198  Average Training Loss:1.150764\n",
      "Epoch 1/5 Step 2900/5198  Average Training Loss:1.141494\n",
      "Epoch 1/5 Step 3000/5198  Average Training Loss:1.130159\n",
      "Epoch 1/5 Step 3100/5198  Average Training Loss:1.120554\n",
      "Epoch 1/5 Step 3200/5198  Average Training Loss:1.111174\n",
      "Epoch 1/5 Step 3300/5198  Average Training Loss:1.102794\n",
      "Epoch 1/5 Step 3400/5198  Average Training Loss:1.094978\n",
      "Epoch 1/5 Step 3500/5198  Average Training Loss:1.086939\n",
      "Epoch 1/5 Step 3600/5198  Average Training Loss:1.078636\n",
      "Epoch 1/5 Step 3700/5198  Average Training Loss:1.072196\n",
      "Epoch 1/5 Step 3800/5198  Average Training Loss:1.066257\n",
      "Epoch 1/5 Step 3900/5198  Average Training Loss:1.060089\n",
      "Epoch 1/5 Step 4000/5198  Average Training Loss:1.055139\n",
      "Epoch 1/5 Step 4100/5198  Average Training Loss:1.049539\n",
      "Epoch 1/5 Step 4200/5198  Average Training Loss:1.043387\n",
      "Epoch 1/5 Step 4300/5198  Average Training Loss:1.036897\n",
      "Epoch 1/5 Step 4400/5198  Average Training Loss:1.031548\n",
      "Epoch 1/5 Step 4500/5198  Average Training Loss:1.026902\n",
      "Epoch 1/5 Step 4600/5198  Average Training Loss:1.022078\n",
      "Epoch 1/5 Step 4700/5198  Average Training Loss:1.017724\n",
      "Epoch 1/5 Step 4800/5198  Average Training Loss:1.012292\n",
      "Epoch 1/5 Step 4900/5198  Average Training Loss:1.007559\n",
      "Epoch 1/5 Step 5000/5198  Average Training Loss:1.003226\n",
      "Epoch 1/5 Step 5100/5198  Average Training Loss:0.999264\n",
      "Epoch 1/5  Average Training Loss:0.995186\n",
      "Epoch 2/5\n",
      "Epoch 2/5 Step 100/5198  Average Training Loss:0.796857\n",
      "Epoch 2/5 Step 200/5198  Average Training Loss:0.785629\n",
      "Epoch 2/5 Step 300/5198  Average Training Loss:0.783583\n",
      "Epoch 2/5 Step 400/5198  Average Training Loss:0.775630\n",
      "Epoch 2/5 Step 500/5198  Average Training Loss:0.776854\n",
      "Epoch 2/5 Step 600/5198  Average Training Loss:0.768936\n",
      "Epoch 2/5 Step 700/5198  Average Training Loss:0.762749\n",
      "Epoch 2/5 Step 800/5198  Average Training Loss:0.763919\n",
      "Epoch 2/5 Step 900/5198  Average Training Loss:0.760936\n",
      "Epoch 2/5 Step 1000/5198  Average Training Loss:0.757872\n",
      "Epoch 2/5 Step 1100/5198  Average Training Loss:0.754547\n",
      "Epoch 2/5 Step 1200/5198  Average Training Loss:0.750190\n",
      "Epoch 2/5 Step 1300/5198  Average Training Loss:0.747715\n",
      "Epoch 2/5 Step 1400/5198  Average Training Loss:0.745091\n",
      "Epoch 2/5 Step 1500/5198  Average Training Loss:0.743315\n",
      "Epoch 2/5 Step 1600/5198  Average Training Loss:0.743205\n",
      "Epoch 2/5 Step 1700/5198  Average Training Loss:0.742148\n",
      "Epoch 2/5 Step 1800/5198  Average Training Loss:0.741768\n",
      "Epoch 2/5 Step 1900/5198  Average Training Loss:0.739557\n",
      "Epoch 2/5 Step 2000/5198  Average Training Loss:0.736529\n",
      "Epoch 2/5 Step 2100/5198  Average Training Loss:0.736606\n",
      "Epoch 2/5 Step 2200/5198  Average Training Loss:0.735239\n",
      "Epoch 2/5 Step 2300/5198  Average Training Loss:0.733405\n",
      "Epoch 2/5 Step 2400/5198  Average Training Loss:0.733278\n",
      "Epoch 2/5 Step 2500/5198  Average Training Loss:0.731477\n",
      "Epoch 2/5 Step 2600/5198  Average Training Loss:0.731340\n",
      "Epoch 2/5 Step 2700/5198  Average Training Loss:0.729466\n",
      "Epoch 2/5 Step 2800/5198  Average Training Loss:0.728785\n",
      "Epoch 2/5 Step 2900/5198  Average Training Loss:0.729062\n",
      "Epoch 2/5 Step 3000/5198  Average Training Loss:0.727342\n",
      "Epoch 2/5 Step 3100/5198  Average Training Loss:0.725627\n",
      "Epoch 2/5 Step 3200/5198  Average Training Loss:0.724948\n",
      "Epoch 2/5 Step 3300/5198  Average Training Loss:0.724139\n",
      "Epoch 2/5 Step 3400/5198  Average Training Loss:0.723747\n",
      "Epoch 2/5 Step 3500/5198  Average Training Loss:0.722430\n",
      "Epoch 2/5 Step 3600/5198  Average Training Loss:0.720708\n",
      "Epoch 2/5 Step 3700/5198  Average Training Loss:0.719779\n",
      "Epoch 2/5 Step 3800/5198  Average Training Loss:0.719852\n",
      "Epoch 2/5 Step 3900/5198  Average Training Loss:0.719273\n",
      "Epoch 2/5 Step 4000/5198  Average Training Loss:0.719254\n",
      "Epoch 2/5 Step 4100/5198  Average Training Loss:0.718470\n",
      "Epoch 2/5 Step 4200/5198  Average Training Loss:0.717011\n",
      "Epoch 2/5 Step 4300/5198  Average Training Loss:0.715351\n",
      "Epoch 2/5 Step 4400/5198  Average Training Loss:0.714510\n",
      "Epoch 2/5 Step 4500/5198  Average Training Loss:0.714080\n",
      "Epoch 2/5 Step 4600/5198  Average Training Loss:0.713286\n",
      "Epoch 2/5 Step 4700/5198  Average Training Loss:0.713083\n",
      "Epoch 2/5 Step 4800/5198  Average Training Loss:0.711765\n",
      "Epoch 2/5 Step 4900/5198  Average Training Loss:0.710807\n",
      "Epoch 2/5 Step 5000/5198  Average Training Loss:0.710560\n",
      "Epoch 2/5 Step 5100/5198  Average Training Loss:0.710219\n",
      "Epoch 2/5  Average Training Loss:0.709475\n",
      "Epoch 3/5\n",
      "Epoch 3/5 Step 100/5198  Average Training Loss:0.696901\n",
      "Epoch 3/5 Step 200/5198  Average Training Loss:0.684358\n",
      "Epoch 3/5 Step 300/5198  Average Training Loss:0.687764\n",
      "Epoch 3/5 Step 400/5198  Average Training Loss:0.680735\n",
      "Epoch 3/5 Step 500/5198  Average Training Loss:0.682919\n",
      "Epoch 3/5 Step 600/5198  Average Training Loss:0.676070\n",
      "Epoch 3/5 Step 700/5198  Average Training Loss:0.667605\n",
      "Epoch 3/5 Step 800/5198  Average Training Loss:0.668432\n",
      "Epoch 3/5 Step 900/5198  Average Training Loss:0.664258\n",
      "Epoch 3/5 Step 1000/5198  Average Training Loss:0.659199\n",
      "Epoch 3/5 Step 1100/5198  Average Training Loss:0.654992\n",
      "Epoch 3/5 Step 1200/5198  Average Training Loss:0.649752\n",
      "Epoch 3/5 Step 1300/5198  Average Training Loss:0.647125\n",
      "Epoch 3/5 Step 1400/5198  Average Training Loss:0.644831\n",
      "Epoch 3/5 Step 1500/5198  Average Training Loss:0.643935\n",
      "Epoch 3/5 Step 1600/5198  Average Training Loss:0.644500\n",
      "Epoch 3/5 Step 1700/5198  Average Training Loss:0.643300\n",
      "Epoch 3/5 Step 1800/5198  Average Training Loss:0.643296\n",
      "Epoch 3/5 Step 1900/5198  Average Training Loss:0.641065\n",
      "Epoch 3/5 Step 2000/5198  Average Training Loss:0.639035\n",
      "Epoch 3/5 Step 2100/5198  Average Training Loss:0.640061\n",
      "Epoch 3/5 Step 2200/5198  Average Training Loss:0.639473\n",
      "Epoch 3/5 Step 2300/5198  Average Training Loss:0.637887\n",
      "Epoch 3/5 Step 2400/5198  Average Training Loss:0.638050\n",
      "Epoch 3/5 Step 2500/5198  Average Training Loss:0.636968\n"
     ]
    }
   ],
   "source": [
    "model.train()\n",
    "step = 0\n",
    "model.zero_grad()\n",
    "for epoch in range(config['epochs']):\n",
    "    losses = []\n",
    "    print(\"Epoch {}/{}\".format(epoch+1, config['epochs']))\n",
    "    for epoch_step, batch in enumerate(train_iter):\n",
    "        batch = {k: v.to(device) for k, v in batch.items() if k != 'word_ids'}\n",
    "        loss = model(input_ids=batch['input_ids'],\n",
    "                     attention_mask=batch['attention_mask'],\n",
    "                     labels=batch['labels']).loss\n",
    "        loss /= config['gradient_accumulation_steps']\n",
    "        loss.backward()\n",
    "        nn.utils.clip_grad_norm_(model.parameters(), max_norm=5, norm_type=2)\n",
    "        if (step + 1) % config['gradient_accumulation_steps'] == 0 or (step + 1) == len(train_iter) * config['epochs']:\n",
    "            optimizer.step()\n",
    "            lr_scheduler.step()\n",
    "            optimizer.zero_grad()\n",
    "\n",
    "        step += 1\n",
    "        losses.append(loss.item() * config['gradient_accumulation_steps'])\n",
    "        if (epoch_step + 1) % 100 == 0:\n",
    "            print(\"Epoch {}/{} Step {}/{}  Average Training Loss:{:6f}\".format(\n",
    "                epoch+1,\n",
    "                config['epochs'],\n",
    "                epoch_step + 1,\n",
    "                len(train_iter),\n",
    "                np.mean(losses)))\n",
    "    # print average loss\n",
    "    print(\"Epoch {}/{}  Average Training Loss:{:6f}\".format(\n",
    "        epoch+1,\n",
    "        config['epochs'],\n",
    "        np.mean(losses)))\n",
    "\n"
   ]
  },
  {
   "cell_type": "markdown",
   "metadata": {},
   "source": [
    "## Save Model"
   ]
  },
  {
   "cell_type": "code",
   "execution_count": null,
   "metadata": {},
   "outputs": [],
   "source": [
    "tokenizer.save_pretrained(f'./model_trained')\n",
    "model.save_pretrained(f'./model_trained')"
   ]
  },
  {
   "cell_type": "code",
   "execution_count": null,
   "metadata": {},
   "outputs": [],
   "source": [
    "model = AutoModelForTokenClassification.from_pretrained(config['model'], num_labels=15).to(device)\n",
    "model.load_state_dict(torch.load('./model_trained/pytorch_model.bin'))"
   ]
  },
  {
   "cell_type": "markdown",
   "metadata": {},
   "source": [
    "## Load Test Data"
   ]
  },
  {
   "cell_type": "code",
   "execution_count": null,
   "metadata": {},
   "outputs": [],
   "source": [
    "test_df = pd.read_csv('./data/sample_submission.csv')\n",
    "test_df.head(5)"
   ]
  },
  {
   "cell_type": "code",
   "execution_count": null,
   "metadata": {},
   "outputs": [],
   "source": [
    "test_names, test_texts = [], []\n",
    "for f in tqdm(list(os.listdir('./data/test'))):\n",
    "    test_names.append(f.replace('.txt', ''))\n",
    "    with open('./data/test/' + f, 'r', encoding='utf-8') as f:\n",
    "        text = ''\n",
    "        for line in f.readlines():\n",
    "            #text += line.replace('\\n', '').replace('\\xa0', '')\n",
    "            text += line.replace('\\n', ' ')\n",
    "        test_texts.append(text)\n",
    "test_texts = pd.DataFrame({'id': test_names, 'text': test_texts})\n",
    "test_texts['text'] = test_texts['text'].apply(lambda x: x.split())\n",
    "test_texts"
   ]
  },
  {
   "cell_type": "code",
   "execution_count": null,
   "metadata": {},
   "outputs": [],
   "source": [
    "test_dataset = MyDataset(test_texts, phase='Test')\n",
    "test_iter = DataLoader(test_dataset, batch_size=config['valid_bs'], collate_fn=collate_fn, shuffle=False,\n",
    "                        num_workers=config['num_workers'])"
   ]
  },
  {
   "cell_type": "markdown",
   "metadata": {},
   "source": [
    "## Predict"
   ]
  },
  {
   "cell_type": "code",
   "execution_count": null,
   "metadata": {},
   "outputs": [],
   "source": [
    "y_pred = []\n",
    "words = []\n",
    "\n",
    "with torch.no_grad():\n",
    "    model.eval()\n",
    "    tk = tqdm(test_iter, total=len(test_iter), position=0, leave=True)\n",
    "    for step, batch in enumerate(tk):\n",
    "        word_ids = batch['word_ids']\n",
    "        words.extend(word_ids)\n",
    "        batch = {k: v.to(device) for k, v in batch.items() if k != 'word_ids'}\n",
    "\n",
    "        output = model(input_ids=batch['input_ids'],\n",
    "                       attention_mask=batch['attention_mask']).logits\n",
    "\n",
    "        y_pred.extend(output.argmax(-1).cpu().numpy())\n",
    "        \n",
    "y_pred = np.array(y_pred)"
   ]
  },
  {
   "cell_type": "code",
   "execution_count": null,
   "metadata": {},
   "outputs": [],
   "source": [
    "y_pred[0][:200]"
   ]
  },
  {
   "cell_type": "code",
   "execution_count": null,
   "metadata": {},
   "outputs": [],
   "source": [
    "final_preds = []\n",
    "\n",
    "for i in tqdm(range(len(test_texts))):\n",
    "    idx = test_texts.id.values[i]\n",
    "    pred = ['']*len(y_pred[i]-2)\n",
    "\n",
    "    for j in range(1, len(y_pred[i])):\n",
    "        pred[j-1] = labels[y_pred[i][j]]\n",
    "\n",
    "    pred = [x.replace('B-','').replace('I-','') for x in pred]\n",
    "    \n",
    "    j = 0\n",
    "    while j < len(pred):\n",
    "        cls = pred[j]\n",
    "        if cls == 'O':\n",
    "            j += 1\n",
    "        end = j + 1\n",
    "        while end < len(pred) and pred[end] == cls:\n",
    "            end += 1\n",
    "            \n",
    "        if cls != 'O' and cls != '' and end - j > 10:\n",
    "            final_preds.append((idx, cls, ' '.join(map(str, list(range(j, end))))))\n",
    "        \n",
    "        j = end\n",
    "        \n",
    "final_preds[0]"
   ]
  },
  {
   "cell_type": "code",
   "execution_count": null,
   "metadata": {},
   "outputs": [],
   "source": [
    "sub = pd.DataFrame(final_preds)\n",
    "sub.columns = test_df.columns\n",
    "sub"
   ]
  },
  {
   "cell_type": "code",
   "execution_count": null,
   "metadata": {},
   "outputs": [],
   "source": [
    "sub.to_csv('submission.csv', index=False)"
   ]
  },
  {
   "cell_type": "code",
   "execution_count": null,
   "metadata": {},
   "outputs": [],
   "source": [
    "!shutdown"
   ]
  }
 ],
 "metadata": {
  "kernelspec": {
   "display_name": "Python 3 (ipykernel)",
   "language": "python",
   "name": "python3"
  },
  "language_info": {
   "codemirror_mode": {
    "name": "ipython",
    "version": 3
   },
   "file_extension": ".py",
   "mimetype": "text/x-python",
   "name": "python",
   "nbconvert_exporter": "python",
   "pygments_lexer": "ipython3",
   "version": "3.8.10"
  }
 },
 "nbformat": 4,
 "nbformat_minor": 4
}
